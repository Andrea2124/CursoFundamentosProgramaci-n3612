{
  "nbformat": 4,
  "nbformat_minor": 0,
  "metadata": {
    "colab": {
      "provenance": []
    },
    "kernelspec": {
      "name": "python3",
      "display_name": "Python 3"
    },
    "language_info": {
      "name": "python"
    }
  },
  "cells": [
    {
      "cell_type": "code",
      "source": [],
      "metadata": {
        "id": "UBrbiXQ4pr1e"
      },
      "execution_count": null,
      "outputs": []
    },
    {
      "cell_type": "code",
      "execution_count": null,
      "metadata": {
        "id": "qSs4pHd46Bih",
        "colab": {
          "base_uri": "https://localhost:8080/"
        },
        "outputId": "98344a5d-614b-435f-e2f2-6d7e5b2e3e7c"
      },
      "outputs": [
        {
          "output_type": "stream",
          "name": "stdout",
          "text": [
            "Digite su Número de Identificación: 1234\n",
            "Digite su nombre: bebe\n",
            "Digite su apellido: bebe\n",
            "Digite su dirección: cra 1234\n",
            "Digite su telefono: 12345\n",
            "Digite su edad: 20\n",
            "Digite su Estado Civil: casado\n",
            "Digite su número de Hijos: 2\n",
            "Digite su Estatura: 1.50\n",
            "Digite su Fecha Contratación: 10/06/2022\n",
            "Digite su Sueldo: 800000\n",
            "Digite su dias laborados: 31\n",
            "Tiene un Paseo en Diciembre\n"
          ]
        }
      ],
      "source": [
        "# Ingrese Datos Basicos\n",
        "NomIden = input(\"Digite su Número de Identificación: \")\n",
        "NomP = input(\"Digite su nombre: \")\n",
        "ApeP = input(\"Digite su apellido: \")\n",
        "Dir = input(\"Digite su dirección: \")\n",
        "Tel = input(\"Digite su telefono: \")\n",
        "Edad = int(input(\"Digite su edad: \"))\n",
        "\n",
        "# Ingrese demás datos\n",
        "EstCiv = input(\"Digite su Estado Civil: \")\n",
        "NumH = int(input(\"Digite su número de Hijos: \"))\n",
        "Esta = float(input(\"Digite su Estatura: \"))\n",
        "FCont = input(\"Digite su Fecha Contratación: \")\n",
        "Sueldo = float(input(\"Digite su Sueldo: \"))\n",
        "DLab = int(input(\"Digite su dias laborados: \"))\n",
        "\n",
        "if Edad > 55:\n",
        "  print(\"Tiene un Bono de Prepension del 5% de su sueldo basico\")\n",
        "elif EstCiv == \"Casado\" or EstCiv == \"casado\" and NumH != 0:\n",
        "  print(\"Tiene un Paseo en Diciembre\")\n",
        "elif Sueldo >= 1000000 and Sueldo < 1500000:\n",
        "  print(\"Tienes un 2% de comisión sobre tu sueldo\".format(Sueldo))\n",
        "elif Sueldo >= 1500001 and Sueldo < 2000000:\n",
        "  print(\"Tienes un 5% de comisión sobre tu sueldo\".format(Sueldo))\n",
        "elif Sueldo < 1000000 or Sueldo > 2000000:\n",
        "  print(\"No hay comisión\".format(Sueldo))\n",
        "elif DLab > 20 and Sueldo < 1000000:\n",
        "  print(\"Tiene derecho a un Bono de alimentación\".format(DLab,Sueldo))\n",
        "else: \n",
        "  print(\"Buen Trabajo\")\n",
        "\n"
      ]
    },
    {
      "cell_type": "code",
      "source": [
        "NomIden = input(\"Digite su Número de Identificación: \")\n",
        "NomP = input(\"Digite su nombre: \")\n",
        "ApeP = input(\"Digite su apellido: \")\n",
        "Dir = input(\"Digite su dirección: \")\n",
        "Tel = input(\"Digite su telefono: \")\n",
        "Edad = int(input(\"Digite su edad: \"))\n",
        "\n",
        "Edad >= 50 \n",
        "while Edad <=60:\n",
        "  Edad = Edad + 10\n",
        "\n",
        "  if Edad >= 50:\n",
        "    print(\"Proximo a pensionarse\")\n",
        "  else:\n",
        "    print(\"Sigue trabajando ya casi te pensionas\")"
      ],
      "metadata": {
        "colab": {
          "base_uri": "https://localhost:8080/"
        },
        "id": "yTylRLVRunYA",
        "outputId": "5f343e54-1bf2-4099-dff4-9751eb4501b8"
      },
      "execution_count": null,
      "outputs": [
        {
          "output_type": "stream",
          "name": "stdout",
          "text": [
            "Digite su Número de Identificación: 12345\n",
            "Digite su nombre: andre\n",
            "Digite su apellido: diaz\n",
            "Digite su dirección: cra 1234\n",
            "Digite su telefono: 1235\n",
            "Digite su edad: 50\n",
            "Proximo a pensionarse\n",
            "Proximo a pensionarse\n"
          ]
        }
      ]
    },
    {
      "cell_type": "code",
      "source": [
        "NomIden = input(\"Digite su Número de Identificación: \")\n",
        "NomP = input(\"Digite su nombre: \")\n",
        "ApeP = input(\"Digite su apellido: \")\n",
        "Dir = input(\"Digite su dirección: \")\n",
        "Tel = input(\"Digite su telefono: \")\n",
        "\n",
        "resp = \"si\"\n",
        "while resp == \"si\" or resp == \"SI\" or resp == \"yes\":\n",
        "  Edad = int(input(\"Digite su Edad: \"))\n",
        "\n",
        "  if Edad >= 50 and Edad <=60:\n",
        "    print(\"Esta proximo a pensionarse\")\n",
        "  else:\n",
        "    print(\"Sigue trabajando casi nos pensionamos\")\n",
        "  resp = input(\"¿Desea saber si se va a pensionar?: \")"
      ],
      "metadata": {
        "colab": {
          "base_uri": "https://localhost:8080/"
        },
        "id": "486GnSlDFYL9",
        "outputId": "8b23f850-da24-437b-b45a-34525b7222cd"
      },
      "execution_count": null,
      "outputs": [
        {
          "name": "stdout",
          "output_type": "stream",
          "text": [
            "Digite su Número de Identificación: 1010\n",
            "Digite su nombre: andre\n",
            "Digite su apellido: diaz\n",
            "Digite su dirección: cra 1234\n",
            "Digite su telefono: 12345\n",
            "Digite su Edad: 50\n",
            "Esta proximo a pensionarse\n",
            "¿Desea saber si se va a pensionar?: no\n"
          ]
        }
      ]
    },
    {
      "cell_type": "code",
      "source": [
        "NomIden = input(\"Digite su Número de Identificación: \")\n",
        "NomP = input(\"Digite su nombre: \")\n",
        "ApeP = input(\"Digite su apellido: \")\n",
        "Dir = input(\"Digite su dirección: \")\n",
        "Tel = input(\"Digite su telefono: \")\n",
        "\n",
        "def valedad(edad):\n",
        "  if edad >= 60:\n",
        "    print(\"Usted es una persona de la tercera edad\")\n",
        "  elif edad >= 50 and edad <60:\n",
        "    print(\"Usted es una persona adulto\")\n",
        "  elif edad >= 20 and edad <50:\n",
        "    print(\"Usted es una persona mayor\")\n",
        "  elif edad >= 18 and edad <20:\n",
        "    print(\"Usted es una persona mayor de edad\")\n",
        "  else:\n",
        "    print(\"Usted es una persona Joven aún\")\n",
        "\n",
        "resp = \"si\"\n",
        "while resp == \"si\":\n",
        "  edad = int(input(\"Digite su edad: \"))\n",
        "  valedad(edad)\n",
        "  resp= input(\"¿Desea confirmar en que grupo esta? \")"
      ],
      "metadata": {
        "colab": {
          "base_uri": "https://localhost:8080/"
        },
        "id": "i2xvfLkv678I",
        "outputId": "8011f47f-6fac-4b99-bfeb-7d5c549daba4"
      },
      "execution_count": null,
      "outputs": [
        {
          "name": "stdout",
          "output_type": "stream",
          "text": [
            "Digite su Número de Identificación: 1234\n",
            "Digite su nombre: andre\n",
            "Digite su apellido: diaz\n",
            "Digite su dirección: cra 1234\n",
            "Digite su telefono: 12345\n",
            "Digite su edad: 20\n",
            "Usted es una persona mayor\n",
            "¿Desea confirmar en que grupo esta? si\n",
            "Digite su edad: 60\n",
            "Usted es una persona de la tercera edad\n",
            "¿Desea confirmar en que grupo esta? no\n"
          ]
        }
      ]
    }
  ]
}